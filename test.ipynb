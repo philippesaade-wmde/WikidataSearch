{
 "cells": [
  {
   "cell_type": "code",
   "execution_count": 12,
   "id": "eabfcfe6",
   "metadata": {},
   "outputs": [
    {
     "data": {
      "text/plain": [
       "'[{\"QID\":\"Q123371\",\"similarity_score\":0.7842163,\"rrf_score\":0.0196078431372549,\"source\":\"Vector Search\"},{\"QID\":\"Q46202\",\"similarity_score\":0.59862715,\"rrf_score\":0.0196078431372549,\"source\":\"Keyword Search\"},{\"QID\":\"Q60197\",\"similarity_score\":0.7542739,\"rrf_score\":0.019230769230769232,\"source\":\"Vector Search\"},{\"QID\":\"Q111976332\",\"similarity_score\":0.74874765,\"rrf_score\":0.018867924528301886,\"source\":\"Vector Search\"},{\"QID\":\"Q103998\",\"similarity_score\":0.74400467,\"rrf_score\":0.018518518518518517,\"source\":\"Vector Search\"},{\"QID\":\"Q1357500\",\"similarity_score\":0.71850246,\"rrf_score\":0.01818181818181818,\"source\":\"Vector Search\"},{\"QID\":\"Q18738738\",\"similarity_score\":0.71160483,\"rrf_score\":0.017857142857142856,\"source\":\"Vector Search\"},{\"QID\":\"Q57072\",\"similarity_score\":0.70651406,\"rrf_score\":0.017543859649122806,\"source\":\"Vector Search\"},{\"QID\":\"Q18276158\",\"similarity_score\":0.7049162,\"rrf_score\":0.017241379310344827,\"source\":\"Vector Search\"},{\"QID\":\"Q67948\",\"similarity_score\":0.7022362,\"rrf_score\":0.01694915254237288,\"source\":\"Vector Search\"},{\"QID\":\"Q318126\",\"similarity_score\":0.6972159,\"rrf_score\":0.016666666666666666,\"source\":\"Vector Search\"},{\"QID\":\"Q7213562\",\"similarity_score\":0.6935442,\"rrf_score\":0.01639344262295082,\"source\":\"Vector Search\"},{\"QID\":\"Q26240822\",\"similarity_score\":0.6862094,\"rrf_score\":0.016129032258064516,\"source\":\"Vector Search\"},{\"QID\":\"Q1358895\",\"similarity_score\":0.6855607,\"rrf_score\":0.015873015873015872,\"source\":\"Vector Search\"},{\"QID\":\"Q40904\",\"similarity_score\":0.6854344,\"rrf_score\":0.015625,\"source\":\"Vector Search\"},{\"QID\":\"Q32080413\",\"similarity_score\":0.6841407,\"rrf_score\":0.015384615384615385,\"source\":\"Vector Search\"},{\"QID\":\"Q56189\",\"similarity_score\":0.6831723,\"rrf_score\":0.015151515151515152,\"source\":\"Vector Search\"},{\"QID\":\"Q64218019\",\"similarity_score\":0.6827772,\"rrf_score\":0.014925373134328358,\"source\":\"Vector Search\"},{\"QID\":\"Q123676\",\"similarity_score\":0.68264115,\"rrf_score\":0.014705882352941176,\"source\":\"Vector Search\"},{\"QID\":\"Q45842726\",\"similarity_score\":0.6816297,\"rrf_score\":0.014492753623188406,\"source\":\"Vector Search\"}]'"
      ]
     },
     "execution_count": 12,
     "metadata": {},
     "output_type": "execute_result"
    }
   ],
   "source": [
    "import requests\n",
    "\n",
    "r = requests.get('http://localhost:8080/item/query', params={'query': 'Einstein', 'lang': 'en'}, headers={'User-Agent': 'Wikidata MCP'})\n",
    "r.text"
   ]
  },
  {
   "cell_type": "code",
   "execution_count": null,
   "id": "1fa5bead",
   "metadata": {},
   "outputs": [],
   "source": []
  }
 ],
 "metadata": {
  "kernelspec": {
   "display_name": "base",
   "language": "python",
   "name": "python3"
  },
  "language_info": {
   "codemirror_mode": {
    "name": "ipython",
    "version": 3
   },
   "file_extension": ".py",
   "mimetype": "text/x-python",
   "name": "python",
   "nbconvert_exporter": "python",
   "pygments_lexer": "ipython3",
   "version": "3.12.2"
  }
 },
 "nbformat": 4,
 "nbformat_minor": 5
}
